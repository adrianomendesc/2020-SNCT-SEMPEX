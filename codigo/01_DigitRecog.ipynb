{
 "metadata": {
  "language_info": {
   "codemirror_mode": {
    "name": "ipython",
    "version": 3
   },
   "file_extension": ".py",
   "mimetype": "text/x-python",
   "name": "python",
   "nbconvert_exporter": "python",
   "pygments_lexer": "ipython3",
   "version": "3.7.7-final"
  },
  "orig_nbformat": 2,
  "kernelspec": {
   "name": "python37764bitmltf2conda1748e5baa32d43dc80b5c679372c85e2",
   "display_name": "Python 3.7.7 64-bit ('ml_tf2': conda)"
  }
 },
 "nbformat": 4,
 "nbformat_minor": 2,
 "cells": [
  {
   "source": [
    "# MLP para classificar MNIST\n",
    "Este experimento tem a finalidade de exemplificar o reconhecimento de dígitos manuscritos utilizando o algorítimo de MLP da biblioteca Scikit Learn.\n",
    "Para maiores detalhes, acesse os links abaixo:\n",
    "- <a href=\"https://scikit-learn.org\">Scikit Learn</a>\n",
    "- <a href=\"https://scikit-learn.org/stable/modules/generated/sklearn.neural_network.MLPClassifier.html?highlight=mlp#sklearn.neural_network.MLPClassifier\">MLP Classificador (Sklearn)</a>\n"
   ],
   "cell_type": "markdown",
   "metadata": {}
  },
  {
   "source": [
    "## Passo 1\n",
    "\n",
    "Preparando os dados para passar para o MLP"
   ],
   "cell_type": "markdown",
   "metadata": {}
  },
  {
   "source": [
    "### Baixando os dados\n",
    "\n",
    "Baixa aqui as imagens que representam os dígitos manuscritos, os dados são o dataset <a href=\"https://www.openml.org/d/554\">MNIST</a>.\n",
    "\n",
    "No site de datasets ele é encontrado pelo nome mnist_784.\n",
    "\n",
    "O Dataset é setado na variável mnist, que pode ser acessada como um dicionário convencional do Python."
   ],
   "cell_type": "markdown",
   "metadata": {}
  },
  {
   "cell_type": "code",
   "execution_count": null,
   "metadata": {},
   "outputs": [],
   "source": [
    "from sklearn.datasets import fetch_openml\n",
    "mnist = fetch_openml('mnist_784', data_home='./data/mnist')"
   ]
  },
  {
   "source": [
    "### O Formato dos dados\n",
    "\n",
    "As imágesm são acessadas pela propriedade \"data\" da variável.\n",
    "\n",
    "Ela tem uma lista de 70.000 imagens em escala de sinza, no tamanho 28x28 pixels.\n",
    "\n",
    "Entretanto as imagens da lista estão \"transformadas\" em forma de vetor (1D) em não matrix (2D)."
   ],
   "cell_type": "markdown",
   "metadata": {}
  },
  {
   "cell_type": "code",
   "execution_count": null,
   "metadata": {},
   "outputs": [],
   "source": [
    "mnist.data"
   ]
  },
  {
   "source": [
    "### Visualizando as imagens\n",
    "\n",
    "Para que possamos ver algumas as imagens, devemos voltar cada imagem ao seu formato de 28 x 28 pixels."
   ],
   "cell_type": "markdown",
   "metadata": {}
  },
  {
   "cell_type": "code",
   "execution_count": null,
   "metadata": {},
   "outputs": [],
   "source": [
    "import math\n",
    "import numpy as np\n",
    "\n",
    "imgOrSp = mnist.data[0].shape\n",
    "imgNewSp = math.sqrt(imgOrSp[0])\n",
    "\n",
    "imgs = np.array(mnist.data).reshape(-1, int(imgNewSp), int(imgNewSp))"
   ]
  },
  {
   "cell_type": "code",
   "execution_count": null,
   "metadata": {},
   "outputs": [],
   "source": [
    "def PlotImages(_imgs, _tags, _nsamples, _tagLabel, \n",
    "                _tags2 = [], _tagLabel2 = ''):\n",
    "    import matplotlib.pyplot as plt\n",
    "\n",
    "    _, axes = plt.subplots((_nsamples // 4), 4, figsize=(10, 3.5*(_nsamples // 4)))\n",
    "\n",
    "    images_and_labels = list(zip(_imgs[:_nsamples], _tags[:_nsamples]))\n",
    "    for ixAx in range(_nsamples):\n",
    "        (image, label) = images_and_labels[ixAx]\n",
    "\n",
    "        ax = axes[ixAx // 4 , ixAx % 4]\n",
    "        ax.set_axis_off()\n",
    "        ax.imshow(image, cmap=plt.cm.gray_r, interpolation='nearest')\n",
    "        title = f'{_tagLabel}: {label}'\n",
    "        if (len(_tags2) > 0):\n",
    "            title += f'\\n{_tagLabel2}: {_tags2[ixAx]}'\n",
    "        ax.set_title(title)"
   ]
  },
  {
   "cell_type": "code",
   "execution_count": null,
   "metadata": {},
   "outputs": [],
   "source": [
    "PlotImages(imgs, mnist.target, 8, 'Treinamento')"
   ]
  },
  {
   "source": [
    "### Tratando os dados para o MLP\n",
    "Os algorítimos de ML são muito sensíveis aos dados que são usados. E neste experimento, vamos tomar alguns cuidados:\n",
    "- No caso das RNs, o volume de dados afeta em o tempo de treinamento da rede. Aqui então, vamos redimencionar as imagens para que as mesmas sejam comprimidas para um formato de 8 x 8 pixels, isso ajuda a melhorar o tempo de treinamento.\n",
    "- O mesmo ponto acima, também ajuda a melhorar a acertividade do algorítimo, pois o número de váriáveis controladas internamente pela rede vai ser menor."
   ],
   "cell_type": "markdown",
   "metadata": {}
  },
  {
   "source": [
    "#### 1. Redimencionando imagens\n",
    "\n",
    "Aqui, para executar o redimencionamento vamos fazer uso de um framework para tratamento de imagens muito usado em Python, chamado Scikit Image. \n",
    "\n",
    "Para maiores referencias basta acessar o <a href=\"\">link</a>."
   ],
   "cell_type": "markdown",
   "metadata": {}
  },
  {
   "cell_type": "code",
   "execution_count": null,
   "metadata": {},
   "outputs": [],
   "source": [
    "from skimage.transform import resize\n",
    "\n",
    "imgToML = []\n",
    "for img in imgs:\n",
    "    imgToML.append(resize(img, (8, 8), anti_aliasing=False))\n",
    "\n",
    "imgToML = np.array(imgToML)"
   ]
  },
  {
   "cell_type": "code",
   "execution_count": null,
   "metadata": {},
   "outputs": [],
   "source": [
    "# Olhando o tamanho da imagem\n",
    "imgToML.shape"
   ]
  },
  {
   "source": [
    "Visualizando as primeiras 8 imagens depois do redimencionamento."
   ],
   "cell_type": "markdown",
   "metadata": {}
  },
  {
   "cell_type": "code",
   "execution_count": null,
   "metadata": {},
   "outputs": [],
   "source": [
    "PlotImages(imgToML, mnist.target, 8, 'Treinamento')"
   ]
  },
  {
   "source": [
    "#### 2. Transformando as imagens em um vetor de valores numéricos\n",
    "\n",
    "Para que as imagens sejam passadas para o MLP, elas devem ser transformadass novamente em um vetor de valores numéricos, com 8 x 8 posições. Isso porque o MLP, assim como grand emaioria dos algorítimos de ML, entendem somente valores numéricos.\n"
   ],
   "cell_type": "markdown",
   "metadata": {}
  },
  {
   "cell_type": "code",
   "execution_count": null,
   "metadata": {},
   "outputs": [],
   "source": [
    "imgToML = imgToML.reshape(imgToML.shape[0], 8*8)"
   ]
  },
  {
   "cell_type": "code",
   "execution_count": null,
   "metadata": {},
   "outputs": [],
   "source": [
    "imgToML.shape"
   ]
  },
  {
   "source": [
    "#### 3. Normaliza os dados \n",
    "\n",
    "Aqui novamente transformamos os dados para ajudar o MLP a treinar mais rapido e a melhor a acertividade. Fazemos aqui o maior valor dos pixels ser 1. Como aqui temos imagens, e o maior valor para um píxel é 255, basta dividirmos o valor do pixel por 255."
   ],
   "cell_type": "markdown",
   "metadata": {}
  },
  {
   "cell_type": "code",
   "execution_count": null,
   "metadata": {},
   "outputs": [],
   "source": [
    "imgToML = imgToML / 255"
   ]
  },
  {
   "source": [
    "#### 4. Separando os dados entre treinamento e teste\n",
    "\n",
    "Para completar esta tarefa, vamos usar um método do próprio sklearn que separa os dados para que se possa \n",
    "a. Criar o modelo \n",
    "b. Validar o modelo criado\n",
    "\n",
    "Existem algums vários métodos que fazem este papel, a exemplo o \"train_test_split\". \n",
    "\n",
    "Uma atenção especial deve ser data ao resultado final, pois nao podemos correr riscos de separar dados para treinar ou testar que pertencem mais a uma classe do que a outra. OU seja, os dados devem se separados de forma igual entre as classes, e o método train_test_split faz isso."
   ],
   "cell_type": "markdown",
   "metadata": {}
  },
  {
   "cell_type": "code",
   "execution_count": null,
   "metadata": {},
   "outputs": [],
   "source": [
    "# Import datasets, classifiers and performance metrics\n",
    "from sklearn.model_selection import train_test_split\n",
    "\n",
    "# Split data into train and test subsets\n",
    "X_train, X_test, y_train, y_test = train_test_split(\n",
    "    imgToML, mnist.target, test_size=0.3, shuffle=False)"
   ]
  },
  {
   "source": [
    "## Passo 2\n",
    "\n",
    "Aqui vamos criar o modelo, executar o treinamento"
   ],
   "cell_type": "markdown",
   "metadata": {}
  },
  {
   "source": [
    "### 1. Criando o modelo\n",
    "\n",
    "Aqui vamos criar o MLP e fazendo uso do framework scikit-learn para isso. \n",
    "\n",
    "Vale comentar alguns parametros do MLP,\n",
    "- hidden_layer_sizes: Aqui podemos definir o número de nós e camadas que a nossa rede vai ter;\n",
    "- max_inter: Aqui definimos o número máximo de interaçoes que o algotítimo vai executar;\n",
    "- verbose: Se vai ou não gerar um status de execução a medida que o próprio algorítimo roda;\n",
    "\n",
    "Vale lembrar que é possível configurar muitos outros parâmetros, bsta dar uma conferida na documentação do próprio <a href=\"https://scikit-learn.org/stable/modules/generated/sklearn.neural_network.MLPClassifier.html\">sklearn</a>."
   ],
   "cell_type": "markdown",
   "metadata": {}
  },
  {
   "cell_type": "code",
   "execution_count": null,
   "metadata": {},
   "outputs": [],
   "source": [
    "from sklearn.neural_network import MLPClassifier\n",
    "\n",
    "# Create a classifier: a support vector classifier\n",
    "classifier = MLPClassifier(hidden_layer_sizes=(64,), random_state=1, max_iter=300, verbose=True)"
   ]
  },
  {
   "source": [
    "### 2. Treinando o modelo\n",
    "\n",
    "Aqui vamos chamar a função <a href=\"https://scikit-learn.org/stable/modules/generated/sklearn.neural_network.MLPClassifier.html#sklearn.neural_network.MLPClassifier.fit\">fit</a> que realiza o treinamento do modelo criado na etapa anterior."
   ],
   "cell_type": "markdown",
   "metadata": {}
  },
  {
   "cell_type": "code",
   "execution_count": null,
   "metadata": {},
   "outputs": [],
   "source": [
    "%%time\n",
    "\n",
    "# We learn the digits on the first half of the digits\n",
    "classifier.fit(X_train, y_train)"
   ]
  },
  {
   "source": [
    "## Passo 3\n",
    "\n",
    "Aqui vamos executar a predição do sdados separados para teste, e analisar os resultados gerados"
   ],
   "cell_type": "markdown",
   "metadata": {}
  },
  {
   "source": [
    "### 1. Predizendo os valores separados para teste\n",
    "\n",
    "Aqui é um passo muito importante, a \"predição\" de valores separados do treinamento. Neste mmento é que começamos a verificar o quanto o modelo criado é bom ou ruim para classificar os dados."
   ],
   "cell_type": "markdown",
   "metadata": {}
  },
  {
   "cell_type": "code",
   "execution_count": null,
   "metadata": {},
   "outputs": [],
   "source": [
    "%%time\n",
    "\n",
    "# Now predict the value of the digit on the second half:\n",
    "predicted = classifier.predict(X_test)"
   ]
  },
  {
   "source": [
    "### 2. Analisando os resultados\n",
    "\n",
    "Fazendo o uso de funções do pŕoprio sklearn vamos, com os dados classificados pelo modelo e as classificações reais dos mesmos vamos mensurar a qualidade do modelo através de métricas.\n",
    "\n",
    "Usaremos aqui:\n",
    "- a matriz de confusão: uma matriz onde em suas linhas é exibida a classe real dos valores e em colunas o valor que o algorítimo classificou (valor predito). Para paiores detalhes vija o <a href=\"https://scikit-learn.org/stable/modules/model_evaluation.html#confusion-matrix\">link</a> e a sua definição conceitual <a href=\"https://en.wikipedia.org/wiki/Confusion_matrix\">aqui</a>. Vale destacar que as demias metricas usadas aqui são extraidas da matriz de confusão.\n",
    "- a presision: Vide definição conceitual da matriz de confusão.\n",
    "- a recall: Vide definição conceitual da matriz de confusão.\n",
    "- a f1-score: Vide definição conceitual da matriz de confusão.\n",
    "\n",
    ". "
   ],
   "cell_type": "markdown",
   "metadata": {}
  },
  {
   "cell_type": "code",
   "execution_count": null,
   "metadata": {},
   "outputs": [],
   "source": [
    "from sklearn import metrics\n",
    "import matplotlib.pyplot as plt\n",
    "\n",
    "fig, ax = plt.subplots(1,1, figsize=(10,10))\n",
    "\n",
    "disp = metrics.plot_confusion_matrix(classifier, X_test, y_test, ax=ax)\n",
    "disp.figure_.suptitle(\"Confusion Matrix\")\n",
    "\n",
    "plt.show()"
   ]
  },
  {
   "cell_type": "code",
   "execution_count": null,
   "metadata": {},
   "outputs": [],
   "source": [
    "print(\"Classification report for classifier %s:\\n%s\\n\"\n",
    "      % (classifier, metrics.classification_report(y_test, predicted)))"
   ]
  },
  {
   "source": [
    "#### Analisa visual dos resultados\n",
    "\n",
    "Aqui, vamos olhar os 8 primeiros valores preditos, e conferir como o algotírimo rodou"
   ],
   "cell_type": "markdown",
   "metadata": {}
  },
  {
   "cell_type": "code",
   "execution_count": null,
   "metadata": {},
   "outputs": [],
   "source": [
    "PlotImages(X_test.reshape(-1, 8, 8), predicted, 8, 'Predito', y_test, 'Original')"
   ]
  },
  {
   "cell_type": "code",
   "execution_count": null,
   "metadata": {},
   "outputs": [],
   "source": []
  }
 ]
}